{
 "cells": [
  {
   "cell_type": "markdown",
   "id": "63bd36fa",
   "metadata": {},
   "source": [
    "# Week 3 - Exercise 3.2\n",
    "\n",
    "## Calculating Limits Numerically"
   ]
  },
  {
   "cell_type": "code",
   "execution_count": 1,
   "id": "617399ba",
   "metadata": {},
   "outputs": [],
   "source": [
    "#import libraries\n",
    "import math\n",
    "from sympy import *"
   ]
  },
  {
   "cell_type": "markdown",
   "id": "f7bbed7e",
   "metadata": {},
   "source": [
    "### a)"
   ]
  },
  {
   "cell_type": "code",
   "execution_count": 2,
   "id": "a4435dad",
   "metadata": {},
   "outputs": [
    {
     "name": "stdout",
     "output_type": "stream",
     "text": [
      "[-1, 9, 22.25, 33.70399999999999, 38.178, 42.50179800000001, 42.95001799800001]\n"
     ]
    }
   ],
   "source": [
    "#function to calculate x values into f(x)\n",
    "def f(x):\n",
    "    return 2 * x ** 3 - 4 * x + 1\n",
    "\n",
    "#x values closer and closer to 3\n",
    "x_values = [1, 2, 2.5, 2.8, 2.9,2.99,2.999]\n",
    "\n",
    "#calculates the different x values into the f(x)\n",
    "f_values = [f(x) for x in x_values]\n",
    "\n",
    "#prints the values\n",
    "print (f_values)"
   ]
  },
  {
   "cell_type": "markdown",
   "id": "a1c01e23",
   "metadata": {},
   "source": [
    "### b)"
   ]
  },
  {
   "cell_type": "code",
   "execution_count": 3,
   "id": "ce145bb8",
   "metadata": {},
   "outputs": [
    {
     "name": "stdout",
     "output_type": "stream",
     "text": [
      "[1.0517091807564771, 1.005016708416795, 1.0005001667083846, 1.000050001667141, 1.000005000006965]\n"
     ]
    }
   ],
   "source": [
    "#function to calculate x values into g(x)\n",
    "def g(x):\n",
    "    return (math.exp(x) - 1) / x\n",
    "\n",
    "#x values closer to 0\n",
    "x_values = [0.1, 0.01, 0.001, 0.0001, 0.00001]\n",
    "\n",
    "#calculates the different x values into g(x)\n",
    "g_values = [g(x) for x in x_values]\n",
    "\n",
    "#prints the values\n",
    "print(g_values)"
   ]
  },
  {
   "cell_type": "markdown",
   "id": "22d0a580",
   "metadata": {},
   "source": [
    "### c)\n",
    "In a) the value of 3 would fit into the function because it equals 43. So I think that means it would be continous. But in b) the limit was not 0 it was 1. 0 also could not be put into the function becuase that would cause it to divide by zero, which you can not do. So this one would not be continous. The continutiy would require that the limit of the function match the functions value at a specific point like in a). "
   ]
  },
  {
   "cell_type": "markdown",
   "id": "e3821b6a",
   "metadata": {},
   "source": [
    "## Average Rate of Change"
   ]
  },
  {
   "cell_type": "code",
   "execution_count": 4,
   "id": "5e9f97b5",
   "metadata": {
    "scrolled": true
   },
   "outputs": [
    {
     "name": "stdout",
     "output_type": "stream",
     "text": [
      "The average rate of change is: 18.0\n"
     ]
    }
   ],
   "source": [
    "#Calculate the values of the function, a and b\n",
    "def rate_change(f, a, b):\n",
    "    f_a = f(a)\n",
    "    f_b = f(b)\n",
    "    \n",
    "    #calculates the average rate of change\n",
    "    average_rate = (f_b - f_a) / (b - a)\n",
    "    \n",
    "    return average_rate\n",
    "\n",
    "#The mathematical function\n",
    "def f(x):\n",
    "    return 3 * x ** 2\n",
    "\n",
    "#Defines the values of a and b\n",
    "a = 2\n",
    "b = 4\n",
    "\n",
    "#Calculates the average rate of change\n",
    "average_rate = rate_change(f,a,b)\n",
    "\n",
    "#Prints the results\n",
    "print(f\"The average rate of change is:\",average_rate)"
   ]
  },
  {
   "cell_type": "markdown",
   "id": "67602c55",
   "metadata": {},
   "source": [
    "## Average Rate of Change to Instantaneous Rate of Change"
   ]
  },
  {
   "cell_type": "code",
   "execution_count": 5,
   "id": "bdc5b75f",
   "metadata": {},
   "outputs": [
    {
     "name": "stdout",
     "output_type": "stream",
     "text": [
      "Average speed between 5 and 6 seconds: 53.9 m/s\n",
      "Average speed between 5 and 5.5 seconds: 51.45 m/s\n",
      "Average speed between 5 and 5.1 seconds: 49.49 m/s\n",
      "Instantaneous speed at t = 5 seconds: 49.0 m/s\n",
      "The derivative of f is: 9.8\n",
      "Derivative of f at t = 5: 49.0 m/s\n"
     ]
    }
   ],
   "source": [
    "# Function to calculate the distance traveled by the baseball in meters after t seconds\n",
    "def f(t):\n",
    "    return 4.9 * t**2\n",
    "\n",
    "# Question a)\n",
    "# Average speed (average rate of change of distance) between 5 and 6 seconds\n",
    "t1 = 5\n",
    "t2 = 6\n",
    "distance1 = f(t2) - f(t1)\n",
    "average_speed1 = round(distance1 / (t2 - t1),2)\n",
    "print(\"Average speed between 5 and 6 seconds:\", average_speed1, \"m/s\")\n",
    "\n",
    "# Question b)\n",
    "# Average speed (average rate of change of distance) between 5 and 5.5 seconds\n",
    "t1 = 5\n",
    "t2 = 5.5\n",
    "distance2 = f(t2) - f(t1)\n",
    "average_speed2 = round(distance2 / (t2 - t1),2)\n",
    "print(\"Average speed between 5 and 5.5 seconds:\", average_speed2, \"m/s\")\n",
    "\n",
    "# Question c)\n",
    "# Average speed (average rate of change of distance) between 5 and 5.1 seconds\n",
    "t1 = 5\n",
    "t2 = 5.1\n",
    "distance3 = f(t2) - f(t1)\n",
    "average_speed3 = round(distance3 / (t2 - t1),2)\n",
    "print(\"Average speed between 5 and 5.1 seconds:\", average_speed3, \"m/s\")\n",
    "\n",
    "# Question d)\n",
    "# Instantaneous speed at t = 5 seconds\n",
    "t = 5\n",
    "instantaneous_speed = round(2 * 4.9 * t, 2)\n",
    "print(\"Instantaneous speed at t = 5 seconds:\", instantaneous_speed, \"m/s\")\n",
    "\n",
    "# Question e)\n",
    "# Derivative of f(t)\n",
    "x = symbols('x')\n",
    "f = 2 * 4.9 * x\n",
    "derivative = round(diff(f,x),1)\n",
    "print(\"The derivative of f is:\",derivative)\n",
    "\n",
    "# Question f)\n",
    "# Evaluating the derivative of f at t = 5\n",
    "t = 5\n",
    "derivative_value = 2 * 4.9 * t\n",
    "print(\"Derivative of f at t = 5:\", derivative_value, \"m/s\")"
   ]
  },
  {
   "cell_type": "markdown",
   "id": "af3ae122",
   "metadata": {},
   "source": [
    "The valuce calculated in part d was 49 m/s, which matches the derivation value of f at t=5. Both values represent the same concept: the instantaneous speed of the baseball at t = 5 seconds. The agreement between the two values confirms that the formula used to calculate the instantaneous speed aligns with the derivative definition."
   ]
  },
  {
   "cell_type": "markdown",
   "id": "b39fd6e2",
   "metadata": {},
   "source": [
    "## Calculating and Interpreting Partial Derivatives"
   ]
  },
  {
   "cell_type": "code",
   "execution_count": 7,
   "id": "c424caa0",
   "metadata": {},
   "outputs": [
    {
     "name": "stdout",
     "output_type": "stream",
     "text": [
      "The predicted selling price of a 5 year old car with a condition rating of 8 is $26200\n"
     ]
    }
   ],
   "source": [
    "# Question a)\n",
    "\n",
    "#function to calculate predicted price\n",
    "def predict_price(condition,age):\n",
    "    p = 16000 + 2400 * condition - 1800 * age\n",
    "    return p\n",
    "\n",
    "#assign variables of condition and age\n",
    "condition = 8\n",
    "age = 5\n",
    "\n",
    "#Prints the predicted price\n",
    "predicted_price = predict_price(condition,age)\n",
    "print(f\"The predicted selling price of a {age} year old car with a condition rating of {condition} is ${predicted_price}\" )"
   ]
  },
  {
   "cell_type": "code",
   "execution_count": 8,
   "id": "9096fb9b",
   "metadata": {},
   "outputs": [
    {
     "name": "stdout",
     "output_type": "stream",
     "text": [
      "The partial derivative aP/aC is: 2400\n",
      "The partial derivative aP/aY is: -1800\n"
     ]
    }
   ],
   "source": [
    "def calculate_partial_derivatives(condition, age):\n",
    "    # Symbols for variables\n",
    "    P, C, Y = symbols('P C Y')\n",
    "\n",
    "    # equation\n",
    "    equation = 16000 + 2400 * C - 1800 * Y\n",
    "\n",
    "    # Calculate partial derivatives\n",
    "    partial_derivative_c = diff(equation, C).subs([(C, condition), (Y, age)])\n",
    "    partial_derivative_y = diff(equation, Y).subs([(C, condition), (Y, age)])\n",
    "\n",
    "    return partial_derivative_c, partial_derivative_y\n",
    "\n",
    "# variables of condition and age\n",
    "condition_rating = 8\n",
    "car_age = 5\n",
    "partial_derivative_c, partial_derivative_y = calculate_partial_derivatives(condition_rating, car_age)\n",
    "\n",
    "#Prints results of the partial derivative\n",
    "print(f\"The partial derivative aP/aC is: {partial_derivative_c}\")\n",
    "print(f\"The partial derivative aP/aY is: {partial_derivative_y}\")\n"
   ]
  }
 ],
 "metadata": {
  "kernelspec": {
   "display_name": "Python 3 (ipykernel)",
   "language": "python",
   "name": "python3"
  },
  "language_info": {
   "codemirror_mode": {
    "name": "ipython",
    "version": 3
   },
   "file_extension": ".py",
   "mimetype": "text/x-python",
   "name": "python",
   "nbconvert_exporter": "python",
   "pygments_lexer": "ipython3",
   "version": "3.10.9"
  }
 },
 "nbformat": 4,
 "nbformat_minor": 5
}
