{
 "cells": [
  {
   "cell_type": "markdown",
   "id": "5ad93fba",
   "metadata": {},
   "source": [
    "## 10.2 Exercise\n",
    "\n",
    "### 1. Calculating Probabilities using Bayes' Theorem"
   ]
  },
  {
   "cell_type": "code",
   "execution_count": 1,
   "id": "66bbd4f9",
   "metadata": {},
   "outputs": [],
   "source": [
    "#imports libraries\n",
    "import math"
   ]
  },
  {
   "cell_type": "code",
   "execution_count": 2,
   "id": "6c5940e7",
   "metadata": {},
   "outputs": [
    {
     "name": "stdout",
     "output_type": "stream",
     "text": [
      "a) Probability of being manufactured using Process A and defective: 42%\n",
      "b) Probability of being manufactured using Process C and not defective: 11%\n"
     ]
    }
   ],
   "source": [
    "#function to find probabilities\n",
    "def calculate_probabilities(processA, processB, processC, PD_A, PD_B, PD_C):\n",
    "    # Calculating P(D) \n",
    "    P_D = PD_A * processA + PD_B * processB + PD_C * processC\n",
    "\n",
    "    # Calculating P(A|D)\n",
    "    PA_D = (PD_A * processA) / P_D\n",
    "\n",
    "    # Calculating P(C|¬D)\n",
    "    PC_nD = (PD_C * processC) / (1 - P_D)\n",
    "\n",
    "    return PA_D, PC_nD\n",
    "\n",
    "\n",
    "#define probabilities\n",
    "processA = 0.5\n",
    "processB = 0.3\n",
    "processC = 0.2\n",
    "PD_A = 0.2\n",
    "PD_B = 0.2\n",
    "PD_C = 0.4\n",
    "\n",
    "# Calculating probabilities\n",
    "PA_D, PC_nD = calculate_probabilities(processA, processB, processC, PD_A, PD_B, PD_C)\n",
    "\n",
    "\n",
    "# Printing the results\n",
    "print(\"a) Probability of being manufactured using Process A and defective: {:.0%}\".format(PA_D))\n",
    "print(\"b) Probability of being manufactured using Process C and not defective: {:.0%}\".format(PC_nD))"
   ]
  },
  {
   "cell_type": "markdown",
   "id": "a39fb98c",
   "metadata": {},
   "source": [
    "### 2. Entropy Function for a Probability Distribution"
   ]
  },
  {
   "cell_type": "code",
   "execution_count": 3,
   "id": "366be7bc",
   "metadata": {},
   "outputs": [
    {
     "name": "stdout",
     "output_type": "stream",
     "text": [
      "The entropy is 1.8464393446710154\n"
     ]
    }
   ],
   "source": [
    "#fnction for Entropy\n",
    "def calculate_entropy(probabilities):\n",
    "    entropy = 0.0\n",
    "    for probability in probabilities:\n",
    "        if probability != 0:\n",
    "            entropy -= probability * math.log2(probability)\n",
    "    return entropy\n",
    "\n",
    "#define probabilities\n",
    "probabilities = [0.2, 0.3, 0.1, 0.4]\n",
    "\n",
    "#prints results\n",
    "entropy = calculate_entropy(probabilities)\n",
    "print(\"The entropy is\", entropy)\n"
   ]
  },
  {
   "cell_type": "markdown",
   "id": "3903109f",
   "metadata": {},
   "source": [
    "### 3. Calculating entropies of Probability Distributions"
   ]
  },
  {
   "cell_type": "code",
   "execution_count": 4,
   "id": "91be4fd1",
   "metadata": {},
   "outputs": [
    {
     "name": "stdout",
     "output_type": "stream",
     "text": [
      "a)\n",
      "The entropy of X is 2.321928094887362\n",
      "The entropy of Y is 2.046439344671015\n"
     ]
    }
   ],
   "source": [
    "# Probabilities of X\n",
    "probabilities_X = [0.2, 0.2, 0.2, 0.2, 0.2]\n",
    "entropy_X = calculate_entropy(probabilities_X)\n",
    "\n",
    "# Probabilities of Y\n",
    "probabilities_Y = [0.1, 0.4, 0.1, 0.3, 0.1]\n",
    "entropy_Y = calculate_entropy(probabilities_Y)\n",
    "\n",
    "#prints reults\n",
    "print(\"a)\")\n",
    "print(\"The entropy of X is\", entropy_X)\n",
    "print(\"The entropy of Y is\", entropy_Y)"
   ]
  },
  {
   "cell_type": "markdown",
   "id": "59cf8ee9",
   "metadata": {},
   "source": [
    "b) The entropy of X is greather than the entropy of Y. This could mean that the random variable X has a higher level of randomness comapred to random variable of Y."
   ]
  }
 ],
 "metadata": {
  "kernelspec": {
   "display_name": "Python 3 (ipykernel)",
   "language": "python",
   "name": "python3"
  },
  "language_info": {
   "codemirror_mode": {
    "name": "ipython",
    "version": 3
   },
   "file_extension": ".py",
   "mimetype": "text/x-python",
   "name": "python",
   "nbconvert_exporter": "python",
   "pygments_lexer": "ipython3",
   "version": "3.10.9"
  }
 },
 "nbformat": 4,
 "nbformat_minor": 5
}
