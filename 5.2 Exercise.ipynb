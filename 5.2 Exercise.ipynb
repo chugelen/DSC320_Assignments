{
 "cells": [
  {
   "cell_type": "markdown",
   "id": "bef1bcb1",
   "metadata": {},
   "source": [
    "## 5.2 Exercise\n",
    "\n",
    "### Data Normalization"
   ]
  },
  {
   "cell_type": "code",
   "execution_count": 1,
   "id": "cd9e5aed",
   "metadata": {},
   "outputs": [],
   "source": [
    "#imports libraries\n",
    "import numpy as np\n",
    "import pandas as pd"
   ]
  },
  {
   "cell_type": "code",
   "execution_count": 2,
   "id": "866988f6",
   "metadata": {},
   "outputs": [
    {
     "name": "stdout",
     "output_type": "stream",
     "text": [
      "Original Array [1 2 3]\n",
      "Normalized Array [0.0, 0.5, 1.0]\n"
     ]
    }
   ],
   "source": [
    "# fuction to normalize array\n",
    "def normalize(array, t_min, t_max):\n",
    "    norm_array = []\n",
    "    diff = t_max - t_min\n",
    "    diff_arr = max (array) - min(array)\n",
    "    \n",
    "    for i in array:\n",
    "        temp = (((i-min(array))*diff)/diff_arr) + t_min\n",
    "        norm_array.append(temp)\n",
    "    return norm_array\n",
    "\n",
    "array_1d = np.arange (1,4)\n",
    "range_to_normalize = (0,1)\n",
    "normalized_array_1d = normalize(array_1d,\n",
    "                               range_to_normalize[0],\n",
    "                               range_to_normalize[1])\n",
    "\n",
    "print(\"Original Array\", array_1d)\n",
    "print(\"Normalized Array\", normalized_array_1d)\n",
    "    "
   ]
  },
  {
   "cell_type": "markdown",
   "id": "bf235cd7",
   "metadata": {},
   "source": [
    "### Data Standardization"
   ]
  },
  {
   "cell_type": "code",
   "execution_count": 3,
   "id": "0a157ee6",
   "metadata": {},
   "outputs": [
    {
     "name": "stdout",
     "output_type": "stream",
     "text": [
      "[-1.41421356 -0.70710678  0.          0.70710678  1.41421356]\n"
     ]
    }
   ],
   "source": [
    "#function to standardize\n",
    "def standardize(array):\n",
    "    mean = np.mean(array)\n",
    "    std = np.std(array)\n",
    "    standardized_array = (array - mean) / std\n",
    "    return standardized_array\n",
    "\n",
    "array = [1,2,3,4,5]\n",
    "standardized_array = standardize(array)\n",
    "print(standardized_array)"
   ]
  },
  {
   "cell_type": "markdown",
   "id": "9675fd97",
   "metadata": {},
   "source": [
    "## Working with a Dataframe"
   ]
  },
  {
   "cell_type": "code",
   "execution_count": 4,
   "id": "c3d353ef",
   "metadata": {},
   "outputs": [
    {
     "name": "stdout",
     "output_type": "stream",
     "text": [
      "   longitude  latitude  housing_median_age  total_rooms  total_bedrooms  \\\n",
      "0    -122.23     37.88                41.0        880.0           129.0   \n",
      "1    -122.22     37.86                21.0       7099.0          1106.0   \n",
      "2    -122.24     37.85                52.0       1467.0           190.0   \n",
      "3    -122.25     37.85                52.0       1274.0           235.0   \n",
      "4    -122.25     37.85                52.0       1627.0           280.0   \n",
      "\n",
      "   population  households  median_income  median_house_value ocean_proximity  \n",
      "0       322.0       126.0         8.3252            452600.0        NEAR BAY  \n",
      "1      2401.0      1138.0         8.3014            358500.0        NEAR BAY  \n",
      "2       496.0       177.0         7.2574            352100.0        NEAR BAY  \n",
      "3       558.0       219.0         5.6431            341300.0        NEAR BAY  \n",
      "4       565.0       259.0         3.8462            342200.0        NEAR BAY  \n"
     ]
    }
   ],
   "source": [
    "#read the dataset into a dataframe\n",
    "df = pd.read_csv('housing.csv')\n",
    "\n",
    "print(df.head())"
   ]
  },
  {
   "cell_type": "markdown",
   "id": "131e1f67",
   "metadata": {},
   "source": [
    "(a) How many rows does this data set have?"
   ]
  },
  {
   "cell_type": "code",
   "execution_count": 5,
   "id": "6d79f5b4",
   "metadata": {},
   "outputs": [
    {
     "name": "stdout",
     "output_type": "stream",
     "text": [
      "The dataset has 20640 rows.\n"
     ]
    }
   ],
   "source": [
    "#get number of rows in the data frame\n",
    "num_rows = len(df)\n",
    "print(\"The dataset has\", num_rows, \"rows.\")"
   ]
  },
  {
   "cell_type": "markdown",
   "id": "b500ebc5",
   "metadata": {},
   "source": [
    "(b) What is the target vector for your model?"
   ]
  },
  {
   "cell_type": "code",
   "execution_count": 37,
   "id": "956550af",
   "metadata": {},
   "outputs": [
    {
     "name": "stdout",
     "output_type": "stream",
     "text": [
      "The target vecotr is the median_house_value column.\n",
      "\n",
      " 0        452600.0\n",
      "1        358500.0\n",
      "2        352100.0\n",
      "3        341300.0\n",
      "4        342200.0\n",
      "           ...   \n",
      "20635     78100.0\n",
      "20636     77100.0\n",
      "20637     92300.0\n",
      "20638     84700.0\n",
      "20639     89400.0\n",
      "Name: median_house_value, Length: 20640, dtype: float64\n"
     ]
    }
   ],
   "source": [
    "#identify the column of the target vector\n",
    "target = df.median_house_value\n",
    "\n",
    "print (\"The target vecotr is the median_house_value column.\")\n",
    "print (\"\\n\", target)\n"
   ]
  },
  {
   "cell_type": "markdown",
   "id": "187d01f3",
   "metadata": {},
   "source": [
    "(c) Create a new feature by taking the total bedrooms divided by the number of households. What\n",
    "does this new feature represent?"
   ]
  },
  {
   "cell_type": "code",
   "execution_count": 38,
   "id": "0d44764b",
   "metadata": {},
   "outputs": [
    {
     "name": "stdout",
     "output_type": "stream",
     "text": [
      "This new feature displays the average bedroom per household.\n"
     ]
    }
   ],
   "source": [
    "#new feature total bedrooms / number of households\n",
    "df['avg_bedroom'] = df.total_bedrooms / df.households\n",
    "\n",
    "print(\"This new feature displays the average bedroom per household.\")"
   ]
  },
  {
   "cell_type": "markdown",
   "id": "cd53653f",
   "metadata": {},
   "source": [
    "(d) Now, create a new data frame that has three features: the median age, median income, and the\n",
    "new feature created in part (c)."
   ]
  },
  {
   "cell_type": "code",
   "execution_count": 40,
   "id": "a83262df",
   "metadata": {},
   "outputs": [
    {
     "name": "stdout",
     "output_type": "stream",
     "text": [
      "       housing_median_age  median_income  avg_bedroom\n",
      "0                    41.0         8.3252     1.023810\n",
      "1                    21.0         8.3014     0.971880\n",
      "2                    52.0         7.2574     1.073446\n",
      "3                    52.0         5.6431     1.073059\n",
      "4                    52.0         3.8462     1.081081\n",
      "...                   ...            ...          ...\n",
      "20635                25.0         1.5603     1.133333\n",
      "20636                18.0         2.5568     1.315789\n",
      "20637                17.0         1.7000     1.120092\n",
      "20638                18.0         1.8672     1.171920\n",
      "20639                16.0         2.3886     1.162264\n",
      "\n",
      "[20640 rows x 3 columns]\n"
     ]
    }
   ],
   "source": [
    "#creates a new data frame with housing median age, median income and avg bedrooms\n",
    "new_data = df[['housing_median_age','median_income','avg_bedroom']]\n",
    "\n",
    "print(new_data)"
   ]
  },
  {
   "cell_type": "markdown",
   "id": "58a9e935",
   "metadata": {},
   "source": [
    "(e) Take the data frame created in part (d) and apply data standardization to the features."
   ]
  },
  {
   "cell_type": "code",
   "execution_count": 42,
   "id": "90d73d9f",
   "metadata": {},
   "outputs": [
    {
     "name": "stdout",
     "output_type": "stream",
     "text": [
      "       housing_median_age  median_income  avg_bedroom\n",
      "0                0.982119       2.344709    -0.153859\n",
      "1               -0.607004       2.332181    -0.262930\n",
      "2                1.856137       1.782656    -0.049603\n",
      "3                1.856137       0.932945    -0.050416\n",
      "4                1.856137      -0.012881    -0.033567\n",
      "...                   ...            ...          ...\n",
      "20635           -0.289180      -1.216099     0.076183\n",
      "20636           -0.845373      -0.691576     0.459410\n",
      "20637           -0.924829      -1.142566     0.048372\n",
      "20638           -0.845373      -1.054557     0.157229\n",
      "20639           -1.004285      -0.780111     0.136949\n",
      "\n",
      "[20640 rows x 3 columns]\n"
     ]
    }
   ],
   "source": [
    "# Standardizes the data in the new data frame\n",
    "new_data = (new_data - new_data.mean()) / new_data.std()\n",
    "\n",
    "print(new_data)"
   ]
  }
 ],
 "metadata": {
  "kernelspec": {
   "display_name": "Python 3 (ipykernel)",
   "language": "python",
   "name": "python3"
  },
  "language_info": {
   "codemirror_mode": {
    "name": "ipython",
    "version": 3
   },
   "file_extension": ".py",
   "mimetype": "text/x-python",
   "name": "python",
   "nbconvert_exporter": "python",
   "pygments_lexer": "ipython3",
   "version": "3.10.9"
  }
 },
 "nbformat": 4,
 "nbformat_minor": 5
}
