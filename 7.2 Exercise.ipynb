{
 "cells": [
  {
   "cell_type": "markdown",
   "id": "881091b0",
   "metadata": {},
   "source": [
    "## 7.2 Exercise\n",
    "\n",
    "### 1. Solving a System of Linear Equations"
   ]
  },
  {
   "cell_type": "code",
   "execution_count": 1,
   "id": "69c70fdf",
   "metadata": {},
   "outputs": [],
   "source": [
    "#imports libraries\n",
    "import numpy as np\n",
    "import matplotlib.pyplot as plt"
   ]
  },
  {
   "cell_type": "code",
   "execution_count": 2,
   "id": "b25c7cc5",
   "metadata": {},
   "outputs": [
    {
     "name": "stdout",
     "output_type": "stream",
     "text": [
      "The result of the system of equations is [10.  3. -9.  7.]\n"
     ]
    }
   ],
   "source": [
    "#writing equations as a matrix\n",
    "A = np.array([[27,-10, 4,-29],\n",
    "              [-16,5,-2,18],\n",
    "              [-17,4,-2,20],\n",
    "              [-7,2,-1,8]])\n",
    "\n",
    "B = np.array([1,-1,0,1])\n",
    "\n",
    "X = np.linalg.inv(A).dot(B)\n",
    "\n",
    "print(\"The result of the system of equations is\", X)"
   ]
  },
  {
   "cell_type": "markdown",
   "id": "4ac6587d",
   "metadata": {},
   "source": [
    "### 2. Visualizing a Linear Transformation"
   ]
  },
  {
   "cell_type": "markdown",
   "id": "26dfa6f7",
   "metadata": {},
   "source": [
    "a)"
   ]
  },
  {
   "cell_type": "code",
   "execution_count": 3,
   "id": "25105ec6",
   "metadata": {},
   "outputs": [
    {
     "name": "stdout",
     "output_type": "stream",
     "text": [
      "T(x) is [3.41421356 0.        ]\n"
     ]
    }
   ],
   "source": [
    "#define A & x\n",
    "A = np.array([\n",
    "    [np.sqrt(2)/2, -np.sqrt(2/2)],\n",
    "    [np.sqrt(2)/2, np.sqrt(2)/2]\n",
    "])\n",
    "\n",
    "x = np.array([2, -2])  \n",
    "\n",
    "#Find T(x)\n",
    "T_x = np.dot(A,x)\n",
    "\n",
    "print(\"T(x) is\",T_x)"
   ]
  },
  {
   "cell_type": "markdown",
   "id": "39f55962",
   "metadata": {},
   "source": [
    "b)"
   ]
  },
  {
   "cell_type": "code",
   "execution_count": 14,
   "id": "2cac5d15",
   "metadata": {},
   "outputs": [
    {
     "data": {
      "text/plain": [
       "<matplotlib.collections.PathCollection at 0x1c43866dba0>"
      ]
     },
     "execution_count": 14,
     "metadata": {},
     "output_type": "execute_result"
    },
    {
     "data": {
      "image/png": "[encoded data removed]",
      "text/plain": [
       "<Figure size 600x300 with 2 Axes>"
      ]
     },
     "metadata": {},
     "output_type": "display_data"
    }
   ],
   "source": [
    "#create meshgrid\n",
    "xx, yy = np.meshgrid(A,x)\n",
    "\n",
    "xy = np.vstack([xx.flatten(), yy.flatten()])\n",
    "\n",
    "A @ xy[:,0]\n",
    "\n",
    "trans = A @ xy\n",
    "\n",
    "\n",
    "xx_transformed = trans[0].reshape(xx.shape)\n",
    "yy_transformed = trans[1].reshape(yy.shape)\n",
    "\n",
    "f, axes = plt.subplots(1,2, figsize = (6,3))\n",
    "axes[0].scatter(xx,yy, s=10, c=xx+yy)\n",
    "axes[1].scatter(xx_transformed, yy_transformed, s=10, c=xx+yy)\n",
    "            "
   ]
  },
  {
   "cell_type": "markdown",
   "id": "baf96bb8",
   "metadata": {},
   "source": [
    "c)"
   ]
  },
  {
   "cell_type": "markdown",
   "id": "ad7dd41a",
   "metadata": {},
   "source": [
    "The linear transformation T stretches vectors in the input space and rotates them counterclockwise by 45 degrees. It maps vectors from the input space to the output space while preserving their relative directions. "
   ]
  }
 ],
 "metadata": {
  "kernelspec": {
   "display_name": "Python 3 (ipykernel)",
   "language": "python",
   "name": "python3"
  },
  "language_info": {
   "codemirror_mode": {
    "name": "ipython",
    "version": 3
   },
   "file_extension": ".py",
   "mimetype": "text/x-python",
   "name": "python",
   "nbconvert_exporter": "python",
   "pygments_lexer": "ipython3",
   "version": "3.10.9"
  }
 },
 "nbformat": 4,
 "nbformat_minor": 5
}
